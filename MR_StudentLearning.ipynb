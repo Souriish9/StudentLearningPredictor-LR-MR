{
  "nbformat": 4,
  "nbformat_minor": 0,
  "metadata": {
    "colab": {
      "provenance": [],
      "authorship_tag": "ABX9TyPnUB4GvrJavgHE1wiuep1/",
      "include_colab_link": true
    },
    "kernelspec": {
      "name": "python3",
      "display_name": "Python 3"
    },
    "language_info": {
      "name": "python"
    }
  },
  "cells": [
    {
      "cell_type": "markdown",
      "metadata": {
        "id": "view-in-github",
        "colab_type": "text"
      },
      "source": [
        "<a href=\"https://colab.research.google.com/github/Souriish9/StudentLearningPredictor-LR-MR/blob/master/MR_StudentLearning.ipynb\" target=\"_parent\"><img src=\"https://colab.research.google.com/assets/colab-badge.svg\" alt=\"Open In Colab\"/></a>"
      ]
    },
    {
      "cell_type": "code",
      "execution_count": 3,
      "metadata": {
        "id": "Z-h5QzUwsDvG"
      },
      "outputs": [],
      "source": [
        "import pandas as pd"
      ]
    },
    {
      "cell_type": "code",
      "source": [
        "df=pd.read_csv('02Students.csv')\n",
        "df.shape"
      ],
      "metadata": {
        "colab": {
          "base_uri": "https://localhost:8080/"
        },
        "id": "z66_vGr4gIl5",
        "outputId": "cf608578-9eaa-427b-ad53-2f69ed8cd516"
      },
      "execution_count": 4,
      "outputs": [
        {
          "output_type": "execute_result",
          "data": {
            "text/plain": [
              "(30, 3)"
            ]
          },
          "metadata": {},
          "execution_count": 4
        }
      ]
    },
    {
      "cell_type": "code",
      "source": [
        "df.isnull().sum(axis=0)"
      ],
      "metadata": {
        "colab": {
          "base_uri": "https://localhost:8080/"
        },
        "id": "pHTf3OqlgVi_",
        "outputId": "c930fe32-fc92-44bd-91a9-0242f836d6a4"
      },
      "execution_count": 5,
      "outputs": [
        {
          "output_type": "execute_result",
          "data": {
            "text/plain": [
              "Hours     0\n",
              "sHours    0\n",
              "Marks     0\n",
              "dtype: int64"
            ]
          },
          "metadata": {},
          "execution_count": 5
        }
      ]
    },
    {
      "cell_type": "code",
      "source": [
        "X=df.iloc[:,:-1]\n",
        "Y=df.iloc[:,-1]"
      ],
      "metadata": {
        "id": "5Z32m2Txgl1O"
      },
      "execution_count": 6,
      "outputs": []
    },
    {
      "cell_type": "code",
      "source": [
        "from sklearn.model_selection import train_test_split\n",
        "x_train,x_test,y_train,y_test=train_test_split(X,Y,test_size=0.3,random_state=1234)\n"
      ],
      "metadata": {
        "id": "CxC27jiagtb1"
      },
      "execution_count": 7,
      "outputs": []
    },
    {
      "cell_type": "code",
      "source": [
        "x_train.shape"
      ],
      "metadata": {
        "colab": {
          "base_uri": "https://localhost:8080/"
        },
        "id": "j3COOujUh3K9",
        "outputId": "3cd3ad73-01c1-4235-c5c7-9adf1457f5ea"
      },
      "execution_count": 8,
      "outputs": [
        {
          "output_type": "execute_result",
          "data": {
            "text/plain": [
              "(21, 2)"
            ]
          },
          "metadata": {},
          "execution_count": 8
        }
      ]
    },
    {
      "cell_type": "code",
      "source": [
        "from sklearn.linear_model import LinearRegression\n",
        "std_reg=LinearRegression()\n",
        "std_reg.fit(x_train,y_train)"
      ],
      "metadata": {
        "colab": {
          "base_uri": "https://localhost:8080/"
        },
        "id": "b_Us6Gx1h6eH",
        "outputId": "eea11b15-9a2d-4fc4-e574-3eba4b100587"
      },
      "execution_count": 9,
      "outputs": [
        {
          "output_type": "execute_result",
          "data": {
            "text/plain": [
              "LinearRegression()"
            ]
          },
          "metadata": {},
          "execution_count": 9
        }
      ]
    },
    {
      "cell_type": "code",
      "source": [
        "y_pred=std_reg.predict(x_test)\n",
        "y_pred"
      ],
      "metadata": {
        "colab": {
          "base_uri": "https://localhost:8080/"
        },
        "id": "ew0nuZIEixB_",
        "outputId": "4047c38e-6f2b-4e67-d268-6fece8b1bb7c"
      },
      "execution_count": 10,
      "outputs": [
        {
          "output_type": "execute_result",
          "data": {
            "text/plain": [
              "array([45.76085662, 55.91055579, 46.57952582, 41.50467624, 88.56916066,\n",
              "       50.8357062 , 46.57952582, 79.2381307 , 65.24158575])"
            ]
          },
          "metadata": {},
          "execution_count": 10
        }
      ]
    },
    {
      "cell_type": "code",
      "source": [
        "y_test"
      ],
      "metadata": {
        "colab": {
          "base_uri": "https://localhost:8080/"
        },
        "id": "zPqhENqui6tG",
        "outputId": "46b33f02-facc-4315-a4b6-fae1d16fc243"
      },
      "execution_count": 11,
      "outputs": [
        {
          "output_type": "execute_result",
          "data": {
            "text/plain": [
              "7     45\n",
              "10    56\n",
              "4     42\n",
              "1     36\n",
              "28    82\n",
              "8     53\n",
              "3     39\n",
              "23    89\n",
              "14    72\n",
              "Name: Marks, dtype: int64"
            ]
          },
          "metadata": {},
          "execution_count": 11
        }
      ]
    },
    {
      "cell_type": "code",
      "source": [
        "mlr_score=std_reg.score(x_test,y_test)"
      ],
      "metadata": {
        "id": "2PVfW39Ai-b2"
      },
      "execution_count": 12,
      "outputs": []
    },
    {
      "cell_type": "code",
      "source": [
        "mlr_coef=std_reg.coef_\n",
        "mlr_intercept=std_reg.intercept_"
      ],
      "metadata": {
        "id": "-TCjZDHHjE6V"
      },
      "execution_count": 13,
      "outputs": []
    },
    {
      "cell_type": "code",
      "source": [
        "from sklearn.metrics import mean_squared_error\n",
        "import math"
      ],
      "metadata": {
        "id": "8dgVirTxjS21"
      },
      "execution_count": 14,
      "outputs": []
    },
    {
      "cell_type": "code",
      "source": [
        "mlr_rmse=math.sqrt(mean_squared_error(y_test,y_pred))"
      ],
      "metadata": {
        "id": "DxtToC73jjlV"
      },
      "execution_count": 15,
      "outputs": []
    },
    {
      "cell_type": "code",
      "source": [
        "print(mlr_score,mlr_coef,mlr_intercept,mlr_rmse)"
      ],
      "metadata": {
        "colab": {
          "base_uri": "https://localhost:8080/"
        },
        "id": "Sg--xXTZjyYx",
        "outputId": "2eead22a-c64c-4ab8-bd9f-300e00e5e087"
      },
      "execution_count": 16,
      "outputs": [
        {
          "output_type": "stream",
          "name": "stdout",
          "text": [
            "0.9014449991870028 [4.66551498 5.07484959] 1.3152141538095208 5.75536394161202\n"
          ]
        }
      ]
    },
    {
      "cell_type": "markdown",
      "source": [
        "y=1.31+4.66*hrs+5.07*sleep_hours"
      ],
      "metadata": {
        "id": "6RpSOHFukGrT"
      }
    }
  ]
}